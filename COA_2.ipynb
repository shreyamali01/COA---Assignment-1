{
  "nbformat": 4,
  "nbformat_minor": 0,
  "metadata": {
    "colab": {
      "provenance": [],
      "authorship_tag": "ABX9TyPpDfBXAKq4JckrfT9EkF7m",
      "include_colab_link": true
    },
    "kernelspec": {
      "name": "python3",
      "display_name": "Python 3"
    },
    "language_info": {
      "name": "python"
    }
  },
  "cells": [
    {
      "cell_type": "markdown",
      "metadata": {
        "id": "view-in-github",
        "colab_type": "text"
      },
      "source": [
        "<a href=\"https://colab.research.google.com/github/shreyamali01/COA---Assignment-1/blob/main/COA_2.ipynb\" target=\"_parent\"><img src=\"https://colab.research.google.com/assets/colab-badge.svg\" alt=\"Open In Colab\"/></a>"
      ]
    },
    {
      "cell_type": "code",
      "execution_count": 1,
      "metadata": {
        "id": "Nukn1jNzfMMr"
      },
      "outputs": [],
      "source": [
        "import numpy as np"
      ]
    },
    {
      "cell_type": "code",
      "source": [
        "nums = [4,2,6,5,3]\n",
        "for i in range(len(nums)):\n",
        "  p = nums[i]\n",
        "\n",
        "  #initializing the matrices\n",
        "  M1 = np.random.randint(0,9,size=(p,p))\n",
        "  M2 = np.random.randint(0,9,size=(p,p))\n",
        "\n",
        "  #initializing the resultant matrix with zeros\n",
        "  ans = np.zeros((p,p))\n",
        "\n",
        "  #matrix multiplication\n",
        "  for i in range(p):\n",
        "    for j in range(p):\n",
        "      for k in range(p):\n",
        "        ans[i,j] += M1[i,k] * M2[k,j]\n",
        "\n",
        "\n",
        "  print(M1,'\\n')\n",
        "  print(M2, '\\n')\n",
        "  print(ans, '\\n')"
      ],
      "metadata": {
        "colab": {
          "base_uri": "https://localhost:8080/"
        },
        "id": "YXoEPEl1fRdb",
        "outputId": "850e2560-f69d-4034-bd97-4a6783d1b14c"
      },
      "execution_count": 11,
      "outputs": [
        {
          "output_type": "stream",
          "name": "stdout",
          "text": [
            "[[6 5 5 7]\n",
            " [5 5 8 4]\n",
            " [3 0 4 3]\n",
            " [1 8 6 7]] \n",
            "\n",
            "[[3 1 5 1]\n",
            " [3 1 6 7]\n",
            " [0 5 8 8]\n",
            " [6 3 1 2]] \n",
            "\n",
            "[[ 75.  57. 107.  95.]\n",
            " [ 54.  62. 123. 112.]\n",
            " [ 27.  32.  50.  41.]\n",
            " [ 69.  60. 108. 119.]] \n",
            "\n",
            "[[6 5]\n",
            " [8 0]] \n",
            "\n",
            "[[7 7]\n",
            " [5 0]] \n",
            "\n",
            "[[67. 42.]\n",
            " [56. 56.]] \n",
            "\n",
            "[[0 4 3 1 6 0]\n",
            " [3 4 5 8 5 1]\n",
            " [3 4 6 4 4 7]\n",
            " [4 2 5 3 0 1]\n",
            " [6 2 1 6 1 2]\n",
            " [4 3 5 1 4 7]] \n",
            "\n",
            "[[7 4 3 2 3 8]\n",
            " [5 1 5 3 1 3]\n",
            " [5 4 5 3 4 2]\n",
            " [3 5 1 1 7 4]\n",
            " [4 0 4 7 3 8]\n",
            " [0 1 6 7 8 8]] \n",
            "\n",
            "[[ 62.  21.  60.  64.  41.  70.]\n",
            " [110.  77.  88.  83. 112. 126.]\n",
            " [ 99.  67. 121. 117. 133. 152.]\n",
            " [ 72.  54.  56.  39.  63.  68.]\n",
            " [ 79.  62.  55.  48.  85. 104.]\n",
            " [ 87.  51. 111. 110. 110. 143.]] \n",
            "\n",
            "[[5 7 3 2 7]\n",
            " [7 1 7 8 6]\n",
            " [4 8 5 4 1]\n",
            " [7 3 2 6 7]\n",
            " [0 7 6 4 8]] \n",
            "\n",
            "[[2 1 2 8 5]\n",
            " [4 0 0 7 4]\n",
            " [2 2 8 4 5]\n",
            " [7 1 6 0 4]\n",
            " [4 3 7 2 5]] \n",
            "\n",
            "[[ 86.  34.  95. 115. 111.]\n",
            " [112.  47. 160. 103. 136.]\n",
            " [ 82.  21.  79. 110.  98.]\n",
            " [100.  38. 115.  99. 116.]\n",
            " [100.  40. 128.  89. 114.]] \n",
            "\n",
            "[[0 1 5]\n",
            " [3 8 4]\n",
            " [1 0 4]] \n",
            "\n",
            "[[3 6 3]\n",
            " [5 3 1]\n",
            " [1 6 4]] \n",
            "\n",
            "[[10. 33. 21.]\n",
            " [53. 66. 33.]\n",
            " [ 7. 30. 19.]] \n",
            "\n"
          ]
        }
      ]
    },
    {
      "cell_type": "code",
      "source": [],
      "metadata": {
        "id": "YRPQ99fJk2Iw"
      },
      "execution_count": null,
      "outputs": []
    }
  ]
}